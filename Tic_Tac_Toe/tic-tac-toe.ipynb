{
 "cells": [
  {
   "cell_type": "markdown",
   "id": "759157fe",
   "metadata": {},
   "source": [
    "### Board"
   ]
  },
  {
   "cell_type": "code",
   "execution_count": 11,
   "id": "5da73251",
   "metadata": {},
   "outputs": [],
   "source": [
    "from IPython.display import clear_output\n",
    "\n",
    "def display_board(board):\n",
    "    clear_output()\n",
    "    print('   |   |')\n",
    "    print(' ' + board[1]+' | '+board[2]+' | '+board[3])\n",
    "    print('   |   |')\n",
    "    print('-----------')\n",
    "    print('   |   |')\n",
    "    print(' ' + board[4]+' | '+board[5]+' | '+board[6])\n",
    "    print('   |   |')\n",
    "    print('-----------')\n",
    "    print('   |   |')\n",
    "    print(' ' + board[7]+' | '+board[8]+' | '+board[9])\n",
    "    print('   |   |')"
   ]
  },
  {
   "cell_type": "markdown",
   "id": "40bea222",
   "metadata": {},
   "source": [
    "### Func. main menu"
   ]
  },
  {
   "cell_type": "code",
   "execution_count": 12,
   "id": "0048aad7",
   "metadata": {},
   "outputs": [],
   "source": [
    "def player_input():\n",
    "    \n",
    "    p = False\n",
    "    \n",
    "    while not p:\n",
    "        player1 = input(\"Player 1: do you want to be x or o? \")\n",
    "        \n",
    "        if player1 == 'x':\n",
    "            ready = input(\"Are you ready to play? Enter y or n \")\n",
    "            player2 = 'o'\n",
    "            p = True\n",
    "        \n",
    "        elif player1 == 'o':\n",
    "            ready = input(\"Are you ready to play? Enter y or n \")\n",
    "            player2 = 'x'\n",
    "            p = True\n",
    "        else:\n",
    "            print(\"Sorry, invalid choice!\")\n",
    "    \n",
    "    return [player1,player2,ready]\n",
    "    "
   ]
  },
  {
   "cell_type": "markdown",
   "id": "7e5ccf89",
   "metadata": {},
   "source": [
    "### Marker on board"
   ]
  },
  {
   "cell_type": "code",
   "execution_count": 13,
   "id": "20f9499e",
   "metadata": {},
   "outputs": [],
   "source": [
    "def place_marker(board, marker, position):\n",
    "    \n",
    "    board[position] = marker\n",
    "    "
   ]
  },
  {
   "cell_type": "markdown",
   "id": "c46f040e",
   "metadata": {},
   "source": [
    "### Func. to check when win"
   ]
  },
  {
   "cell_type": "code",
   "execution_count": 14,
   "id": "872bdb35",
   "metadata": {},
   "outputs": [],
   "source": [
    "def win_check(board, mark):\n",
    "    p = False\n",
    "    \n",
    "    if board[1] == mark and board[2] == mark and board[3] == mark:\n",
    "        p = True\n",
    "    elif board[4] == mark and board[5] == mark and board[6] == mark:\n",
    "        p = True\n",
    "    elif board[7] == mark and board[8] == mark and board[9] == mark:\n",
    "        p = True\n",
    "    elif board[1] == mark and board[4] == mark and board[7] == mark:\n",
    "        p = True\n",
    "    elif board[2] == mark and board[5] == mark and board[8] == mark:\n",
    "        p = True\n",
    "    elif board[3] == mark and board[6] == mark and board[9] == mark:\n",
    "        p = True\n",
    "    elif board[1] == mark and board[5] == mark and board[9] == mark:\n",
    "        p = True\n",
    "    elif board[7] == mark and board[5] == mark and board[3] == mark:\n",
    "        p = True\n",
    "    else:\n",
    "        p = False\n",
    "    \n",
    "    return p"
   ]
  },
  {
   "cell_type": "markdown",
   "id": "b52dc62f",
   "metadata": {},
   "source": [
    "### Func. to choice random"
   ]
  },
  {
   "cell_type": "code",
   "execution_count": 15,
   "id": "e71f3d48",
   "metadata": {},
   "outputs": [],
   "source": [
    "import random\n",
    "\n",
    "def choose_first():\n",
    "    p = random.randint(1,2)\n",
    "    return p"
   ]
  },
  {
   "cell_type": "markdown",
   "id": "456a9738",
   "metadata": {},
   "source": [
    "### Func. to check the space on board"
   ]
  },
  {
   "cell_type": "code",
   "execution_count": 16,
   "id": "b09d164a",
   "metadata": {},
   "outputs": [],
   "source": [
    "def space_check(board, position):\n",
    "    \n",
    "    if board[position] == ' ':\n",
    "        return True\n",
    "    else:\n",
    "        return False"
   ]
  },
  {
   "cell_type": "markdown",
   "id": "5a23f9dd",
   "metadata": {},
   "source": [
    "### Func. to check when board is full"
   ]
  },
  {
   "cell_type": "code",
   "execution_count": 17,
   "id": "3221869d",
   "metadata": {},
   "outputs": [],
   "source": [
    "def full_board_check(board):\n",
    "    \n",
    "    p = ' '\n",
    "    \n",
    "    if p in board:\n",
    "        return True\n",
    "    else:\n",
    "        return False"
   ]
  },
  {
   "cell_type": "markdown",
   "id": "341c8647",
   "metadata": {},
   "source": [
    "### Func. to mark the position choice"
   ]
  },
  {
   "cell_type": "code",
   "execution_count": 18,
   "id": "218b4636",
   "metadata": {},
   "outputs": [],
   "source": [
    "def player_choice(board):\n",
    "    o = True\n",
    "    c = ['1','2','3','4','5','6','7','8','9']\n",
    "    while o:\n",
    "        choice = input(\"Please enter your position: 1 to 9\")\n",
    "        if choice in c:\n",
    "            choice = int(choice)\n",
    "            if space_check(board, choice):\n",
    "                o = False\n",
    "                break\n",
    "            else:\n",
    "                print(\"Position is marked already!\")\n",
    "            \n",
    "        else:\n",
    "            print(\"Sorry, invalid choice!\")\n",
    "    \n",
    "    return choice"
   ]
  },
  {
   "cell_type": "markdown",
   "id": "53871851",
   "metadata": {},
   "source": [
    "### Func. to ask to play again"
   ]
  },
  {
   "cell_type": "code",
   "execution_count": 19,
   "id": "78eb48ac",
   "metadata": {},
   "outputs": [],
   "source": [
    "def replay():\n",
    "    \n",
    "    o = True\n",
    "    \n",
    "    while o:\n",
    "        replay = input(\"do you want to play again? Enter y or n \")\n",
    "        \n",
    "        if replay == 'y':\n",
    "            p = True\n",
    "            o = False\n",
    "        elif replay == 'n':\n",
    "            p = False\n",
    "            o = False\n",
    "        else:\n",
    "            print(\"Sorry, invalid choice!\")\n",
    "    return p"
   ]
  },
  {
   "cell_type": "markdown",
   "id": "1516b47e",
   "metadata": {},
   "source": [
    "### Game logic"
   ]
  },
  {
   "cell_type": "code",
   "execution_count": 20,
   "id": "af908c16",
   "metadata": {},
   "outputs": [
    {
     "name": "stdout",
     "output_type": "stream",
     "text": [
      "   |   |\n",
      " x | o | x\n",
      "   |   |\n",
      "-----------\n",
      "   |   |\n",
      " o | x | o\n",
      "   |   |\n",
      "-----------\n",
      "   |   |\n",
      " x |   |  \n",
      "   |   |\n",
      "Congrats, Player 1 won!\n",
      "do you want to play again? Enter y or n n\n",
      "Thank you for playing!\n"
     ]
    }
   ],
   "source": [
    "from IPython.display import clear_output\n",
    " \n",
    "print('Welcome to Tic Tac Toe!')\n",
    "\n",
    "\n",
    "p = True\n",
    "\n",
    "while p:\n",
    "     \n",
    "    board = ['#',' ',' ',' ',' ',' ',' ',' ',' ',' ']\n",
    "    players = player_input()\n",
    "    \n",
    "    if players[2] == 'y': \n",
    "        player1 = players[0]\n",
    "        player2 = players[1]\n",
    "        turn = choose_first()\n",
    "        test = True\n",
    "        clear_output(wait=False)\n",
    "        \n",
    "        while test:\n",
    "            \n",
    "            \n",
    "            if turn == 1:\n",
    "                display_board(board)\n",
    "                print(\"Player 1 turn\")\n",
    "                position = player_choice(board)\n",
    "                place_marker(board, player1, position)\n",
    "                win = win_check(board, player1)\n",
    "                full = full_board_check(board)\n",
    "                \n",
    "                \n",
    "                if not full and not win:\n",
    "                    display_board(board)\n",
    "                    print(\"Its a tie!\")\n",
    "                    test = False\n",
    "                \n",
    "                elif not win:\n",
    "                    turn = 2\n",
    "                \n",
    "                else:\n",
    "                    display_board(board)\n",
    "                    print(\"Congrats, Player 1 won!\")\n",
    "                    test = False\n",
    "            \n",
    "            elif turn == 2:\n",
    "                display_board(board)\n",
    "                print(\"Player 2 turn\")\n",
    "                position = player_choice(board)\n",
    "                place_marker(board, player2, position)\n",
    "                win = win_check(board, player2)\n",
    "                full = full_board_check(board)\n",
    "                \n",
    "                \n",
    "                if not full and not win:\n",
    "                    display_board(board)\n",
    "                    print(\"Its a tie!\")\n",
    "                    test = False\n",
    "                \n",
    "                elif not win:\n",
    "                    turn = 1\n",
    "                \n",
    "                \n",
    "                else:\n",
    "                    display_board(board)\n",
    "                    print(\"Congrats, Player 2 won!\")\n",
    "                    test = False\n",
    "            \n",
    "       \n",
    "    rep = replay()\n",
    "    if rep:\n",
    "        pass\n",
    "    else:\n",
    "        print(\"Thank you for playing!\")\n",
    "        p = False"
   ]
  },
  {
   "cell_type": "code",
   "execution_count": null,
   "id": "79eb3e56",
   "metadata": {},
   "outputs": [],
   "source": []
  }
 ],
 "metadata": {
  "kernelspec": {
   "display_name": "Python 3 (ipykernel)",
   "language": "python",
   "name": "python3"
  },
  "language_info": {
   "codemirror_mode": {
    "name": "ipython",
    "version": 3
   },
   "file_extension": ".py",
   "mimetype": "text/x-python",
   "name": "python",
   "nbconvert_exporter": "python",
   "pygments_lexer": "ipython3",
   "version": "3.9.13"
  }
 },
 "nbformat": 4,
 "nbformat_minor": 5
}
